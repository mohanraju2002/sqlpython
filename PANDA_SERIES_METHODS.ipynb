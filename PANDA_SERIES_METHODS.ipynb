{
  "nbformat": 4,
  "nbformat_minor": 0,
  "metadata": {
    "colab": {
      "provenance": [],
      "authorship_tag": "ABX9TyPH/cfbj+n6mAC9VEsDEHJ2",
      "include_colab_link": true
    },
    "kernelspec": {
      "name": "python3",
      "display_name": "Python 3"
    },
    "language_info": {
      "name": "python"
    }
  },
  "cells": [
    {
      "cell_type": "markdown",
      "metadata": {
        "id": "view-in-github",
        "colab_type": "text"
      },
      "source": [
        "<a href=\"https://colab.research.google.com/github/mohanraju2002/sqlpython-pandas/blob/master/PANDA_SERIES_METHODS.ipynb\" target=\"_parent\"><img src=\"https://colab.research.google.com/assets/colab-badge.svg\" alt=\"Open In Colab\"/></a>"
      ]
    },
    {
      "cell_type": "code",
      "execution_count": null,
      "metadata": {
        "id": "A9Mv9y4e33BG"
      },
      "outputs": [],
      "source": [
        "# PANDAS - SERIES-METHODS"
      ]
    },
    {
      "cell_type": "code",
      "source": [
        "# HEADS\n",
        "import pandas as pd\n",
        "values=[1,2,3,4,5,6,7,8,9]\n",
        "data=pd.Series(values)\n",
        "print(data.head())"
      ],
      "metadata": {
        "colab": {
          "base_uri": "https://localhost:8080/"
        },
        "id": "zolPRutR_bRd",
        "outputId": "3a39a725-fde1-4803-a21e-98563ee1c419"
      },
      "execution_count": null,
      "outputs": [
        {
          "output_type": "stream",
          "name": "stdout",
          "text": [
            "0    1\n",
            "1    2\n",
            "2    3\n",
            "3    4\n",
            "4    5\n",
            "dtype: int64\n"
          ]
        }
      ]
    },
    {
      "cell_type": "code",
      "source": [
        "import pandas as pd\n",
        "values=[1,2,3,4,5,6,7,8,9]\n",
        "data=pd.Series(values)\n",
        "print(data.head(3))"
      ],
      "metadata": {
        "colab": {
          "base_uri": "https://localhost:8080/"
        },
        "id": "988oi6dR_6yu",
        "outputId": "417ddc6f-28b0-4f92-bf0c-20f756741ee4"
      },
      "execution_count": null,
      "outputs": [
        {
          "output_type": "stream",
          "name": "stdout",
          "text": [
            "0    1\n",
            "1    2\n",
            "2    3\n",
            "dtype: int64\n"
          ]
        }
      ]
    },
    {
      "cell_type": "code",
      "source": [
        "# TAILS\n",
        "import pandas as pd\n",
        "values=[1,2,3,4,5,6,7,8,9]\n",
        "data=pd.Series(values)\n",
        "print(data.tail())"
      ],
      "metadata": {
        "colab": {
          "base_uri": "https://localhost:8080/"
        },
        "id": "CRtCkYmm__kX",
        "outputId": "b4928dcf-4c3a-4910-ff6c-c1584b065264"
      },
      "execution_count": null,
      "outputs": [
        {
          "output_type": "stream",
          "name": "stdout",
          "text": [
            "4    5\n",
            "5    6\n",
            "6    7\n",
            "7    8\n",
            "8    9\n",
            "dtype: int64\n"
          ]
        }
      ]
    },
    {
      "cell_type": "code",
      "source": [
        "import pandas as pd\n",
        "values=[1,2,3,4,5,6,7,8,9]\n",
        "data=pd.Series(values)\n",
        "print(data.tail(4))"
      ],
      "metadata": {
        "colab": {
          "base_uri": "https://localhost:8080/"
        },
        "id": "Jx2UE9nwABtg",
        "outputId": "8c891755-86b1-4d9f-f1c9-7779292d5e12"
      },
      "execution_count": null,
      "outputs": [
        {
          "output_type": "stream",
          "name": "stdout",
          "text": [
            "5    6\n",
            "6    7\n",
            "7    8\n",
            "8    9\n",
            "dtype: int64\n"
          ]
        }
      ]
    },
    {
      "cell_type": "code",
      "source": [
        "# COUNT\n",
        "import pandas as pd\n",
        "values=[1,2,3,4,5,6,7]\n",
        "data=pd.Series(values)\n",
        "print(data.count())\n"
      ],
      "metadata": {
        "colab": {
          "base_uri": "https://localhost:8080/"
        },
        "id": "mTntJNjgALux",
        "outputId": "5e6b7f18-d8e5-4fd2-b1fd-0e37232b5d59"
      },
      "execution_count": null,
      "outputs": [
        {
          "output_type": "stream",
          "name": "stdout",
          "text": [
            "7\n"
          ]
        }
      ]
    },
    {
      "cell_type": "code",
      "source": [
        "import pandas as pd\n",
        "values=[\"mohan\",\"murari\"]\n",
        "data=pd.Series(values)\n",
        "print(data.count())"
      ],
      "metadata": {
        "colab": {
          "base_uri": "https://localhost:8080/"
        },
        "id": "nRyPUXV5BBl4",
        "outputId": "49829cf8-dd2f-4b54-c719-98b636c2f6ac"
      },
      "execution_count": null,
      "outputs": [
        {
          "output_type": "stream",
          "name": "stdout",
          "text": [
            "2\n"
          ]
        }
      ]
    },
    {
      "cell_type": "code",
      "source": [
        "# SUM\n",
        "\n",
        "import pandas as pd\n",
        "values=[1,2,3,4,5,6]\n",
        "data=pd.Series(values)\n",
        "print(data.sum())\n"
      ],
      "metadata": {
        "colab": {
          "base_uri": "https://localhost:8080/"
        },
        "id": "k6EoX7UOBIuB",
        "outputId": "5cfe2ea5-2f85-47be-b9db-52a88e437fa9"
      },
      "execution_count": null,
      "outputs": [
        {
          "output_type": "stream",
          "name": "stdout",
          "text": [
            "21\n"
          ]
        }
      ]
    },
    {
      "cell_type": "code",
      "source": [
        "import pandas as pd\n",
        "values=[\"mohan\",\"dimple\"]\n",
        "data=pd.Series(values)\n",
        "print(data.sum())"
      ],
      "metadata": {
        "colab": {
          "base_uri": "https://localhost:8080/"
        },
        "id": "3jx4DatVDVsz",
        "outputId": "77b3f85f-f150-4994-dc46-4e8071d39d82"
      },
      "execution_count": null,
      "outputs": [
        {
          "output_type": "stream",
          "name": "stdout",
          "text": [
            "mohandimple\n"
          ]
        }
      ]
    },
    {
      "cell_type": "code",
      "source": [
        "# MAX\n",
        "import pandas as pd\n",
        "values=[1,2,3,4,5,6]\n",
        "data=pd.Series(values)\n",
        "print(data.max())"
      ],
      "metadata": {
        "colab": {
          "base_uri": "https://localhost:8080/"
        },
        "id": "xlbpYPjvEFx9",
        "outputId": "319ca633-7aef-4aff-dddb-3f227d33684e"
      },
      "execution_count": null,
      "outputs": [
        {
          "output_type": "stream",
          "name": "stdout",
          "text": [
            "6\n"
          ]
        }
      ]
    },
    {
      "cell_type": "code",
      "source": [
        "import pandas as pd\n",
        "values=[\"mohan\",\"dimp\"]\n",
        "data=pd.Series(values)\n",
        "print(data.max())"
      ],
      "metadata": {
        "colab": {
          "base_uri": "https://localhost:8080/"
        },
        "id": "KWlSlSdQEKtK",
        "outputId": "0570b1f9-7c5d-4839-8ccf-2a3c9014b4be"
      },
      "execution_count": null,
      "outputs": [
        {
          "output_type": "stream",
          "name": "stdout",
          "text": [
            "mohan\n"
          ]
        }
      ]
    },
    {
      "cell_type": "code",
      "source": [
        "# MIN\n",
        "import pandas as pd\n",
        "values=[1,2,3,4,5,6]\n",
        "data=pd.Series(values)\n",
        "print(data.min())"
      ],
      "metadata": {
        "colab": {
          "base_uri": "https://localhost:8080/"
        },
        "id": "6qiOkQBlEV9C",
        "outputId": "7658031c-e405-4a50-f8f4-5db13e4b41fe"
      },
      "execution_count": null,
      "outputs": [
        {
          "output_type": "stream",
          "name": "stdout",
          "text": [
            "1\n"
          ]
        }
      ]
    },
    {
      "cell_type": "code",
      "source": [
        "import pandas as pd\n",
        "values=[\"mohan\",\"dimp\"]\n",
        "data=pd.Series(values)\n",
        "print(data.min())"
      ],
      "metadata": {
        "colab": {
          "base_uri": "https://localhost:8080/"
        },
        "id": "SRMmOAa2EaDd",
        "outputId": "f3c7cfde-849d-4c3d-a16c-055afcc3a0ce"
      },
      "execution_count": null,
      "outputs": [
        {
          "output_type": "stream",
          "name": "stdout",
          "text": [
            "dimp\n"
          ]
        }
      ]
    },
    {
      "cell_type": "code",
      "source": [
        "# MEAN\n",
        "import pandas as pd\n",
        "values=[1,2,3,4,5,6,7,8]\n",
        "data=pd.Series(values)\n",
        "print(data.mean())"
      ],
      "metadata": {
        "colab": {
          "base_uri": "https://localhost:8080/"
        },
        "id": "9uAml26REiBH",
        "outputId": "314d7c26-250b-46d9-caad-4900a297d27d"
      },
      "execution_count": null,
      "outputs": [
        {
          "output_type": "stream",
          "name": "stdout",
          "text": [
            "4.5\n"
          ]
        }
      ]
    },
    {
      "cell_type": "code",
      "source": [
        "import pandas as pd\n",
        "values=[100,300]\n",
        "data=pd.Series(values)\n",
        "print(data.mean())"
      ],
      "metadata": {
        "colab": {
          "base_uri": "https://localhost:8080/"
        },
        "id": "NusAYhZUE2wG",
        "outputId": "ecadc2a8-c58b-4200-b070-91bd46a9b19a"
      },
      "execution_count": null,
      "outputs": [
        {
          "output_type": "stream",
          "name": "stdout",
          "text": [
            "200.0\n"
          ]
        }
      ]
    },
    {
      "cell_type": "code",
      "source": [
        "# MEDIAN\n",
        "import pandas as pd\n",
        "values=[1,2,3,4,5,6,7]\n",
        "data=pd.Series(values)\n",
        "print(data.median())"
      ],
      "metadata": {
        "colab": {
          "base_uri": "https://localhost:8080/"
        },
        "id": "UQYRclbjE_5Y",
        "outputId": "b9e3531c-85c7-4ff7-f2ee-c43b56ceff7e"
      },
      "execution_count": null,
      "outputs": [
        {
          "output_type": "stream",
          "name": "stdout",
          "text": [
            "4.0\n"
          ]
        }
      ]
    },
    {
      "cell_type": "code",
      "source": [
        "import pandas as pd\n",
        "values=[1,2,3,4,5,6,7,8]\n",
        "data=pd.Series(values)\n",
        "print(data.median())"
      ],
      "metadata": {
        "colab": {
          "base_uri": "https://localhost:8080/"
        },
        "id": "hrDynktrFsJ1",
        "outputId": "9a343f7b-d1ac-4a79-ea58-c34660949c7e"
      },
      "execution_count": null,
      "outputs": [
        {
          "output_type": "stream",
          "name": "stdout",
          "text": [
            "4.5\n"
          ]
        }
      ]
    },
    {
      "cell_type": "code",
      "source": [
        "# DESCRIBE\n",
        "import pandas as pd\n",
        "values=[1,2,3,4,5,6,7,8,9,10]\n",
        "data=pd.Series(values)\n",
        "print(data.describe())\n"
      ],
      "metadata": {
        "colab": {
          "base_uri": "https://localhost:8080/"
        },
        "id": "ohNpzs5BFvWM",
        "outputId": "5ab93d7c-ced1-45a8-b8d8-9e11f5ca4e5f"
      },
      "execution_count": null,
      "outputs": [
        {
          "output_type": "stream",
          "name": "stdout",
          "text": [
            "count    10.00000\n",
            "mean      5.50000\n",
            "std       3.02765\n",
            "min       1.00000\n",
            "25%       3.25000\n",
            "50%       5.50000\n",
            "75%       7.75000\n",
            "max      10.00000\n",
            "dtype: float64\n"
          ]
        }
      ]
    },
    {
      "cell_type": "code",
      "source": [
        "import pandas as pd\n",
        "values=[1,2,3,4,5]\n",
        "data=pd.Series(values)\n",
        "print(data.describe())"
      ],
      "metadata": {
        "colab": {
          "base_uri": "https://localhost:8080/"
        },
        "id": "axzV80WcGHV6",
        "outputId": "1b300297-8f07-4103-a755-bcc6a3a70567"
      },
      "execution_count": null,
      "outputs": [
        {
          "output_type": "stream",
          "name": "stdout",
          "text": [
            "count    5.000000\n",
            "mean     3.000000\n",
            "std      1.581139\n",
            "min      1.000000\n",
            "25%      2.000000\n",
            "50%      3.000000\n",
            "75%      4.000000\n",
            "max      5.000000\n",
            "dtype: float64\n"
          ]
        }
      ]
    },
    {
      "cell_type": "code",
      "source": [
        "#  SORT_VALUES\n",
        "import pandas as pd\n",
        "values=[10,23,56,24,55,54,21]\n",
        "data=pd.Series(values)\n",
        "print(data.sort_values())"
      ],
      "metadata": {
        "colab": {
          "base_uri": "https://localhost:8080/"
        },
        "id": "RqQEOB1bGY7e",
        "outputId": "dcd21406-bd50-474d-8e64-af22ac4ce885"
      },
      "execution_count": null,
      "outputs": [
        {
          "output_type": "stream",
          "name": "stdout",
          "text": [
            "0    10\n",
            "6    21\n",
            "1    23\n",
            "3    24\n",
            "5    54\n",
            "4    55\n",
            "2    56\n",
            "dtype: int64\n"
          ]
        }
      ]
    },
    {
      "cell_type": "code",
      "source": [
        "import pandas as pd\n",
        "values=[10,23,56,24]\n",
        "data=pd.Series(values)\n",
        "print(data.sort_values())"
      ],
      "metadata": {
        "colab": {
          "base_uri": "https://localhost:8080/"
        },
        "id": "rjpwuWRAHB_S",
        "outputId": "939a8f4d-b3b1-4276-eae7-df39371fc266"
      },
      "execution_count": null,
      "outputs": [
        {
          "output_type": "stream",
          "name": "stdout",
          "text": [
            "0    10\n",
            "1    23\n",
            "3    24\n",
            "2    56\n",
            "dtype: int64\n"
          ]
        }
      ]
    },
    {
      "cell_type": "code",
      "source": [
        "import pandas as pd\n",
        "values=[\"mohan\",\"murari\",\"dimple\",\"pattiguda\",\"neerasa\",\"vinay\"]\n",
        "data=pd.Series(values)\n",
        "print(data.sort_values())"
      ],
      "metadata": {
        "colab": {
          "base_uri": "https://localhost:8080/"
        },
        "id": "Z_sX7XXCIQgZ",
        "outputId": "a82b844d-c6f9-4667-c623-9c5e3966686f"
      },
      "execution_count": null,
      "outputs": [
        {
          "output_type": "stream",
          "name": "stdout",
          "text": [
            "2       dimple\n",
            "0        mohan\n",
            "1       murari\n",
            "4      neerasa\n",
            "3    pattiguda\n",
            "5        vinay\n",
            "dtype: object\n"
          ]
        }
      ]
    },
    {
      "cell_type": "code",
      "source": [
        "# SORT_INDEX\n",
        "import pandas as pd\n",
        "values=[100,200,150,250,123,234,111,333,2]\n",
        "data=pd.Series(values)\n",
        "print(data.sort_index())\n",
        "\n"
      ],
      "metadata": {
        "colab": {
          "base_uri": "https://localhost:8080/"
        },
        "id": "6e3mHnHfHgNe",
        "outputId": "4314b269-0106-4bd1-cacc-4e7326d660f7"
      },
      "execution_count": null,
      "outputs": [
        {
          "output_type": "stream",
          "name": "stdout",
          "text": [
            "0    100\n",
            "1    200\n",
            "2    150\n",
            "3    250\n",
            "4    123\n",
            "5    234\n",
            "6    111\n",
            "7    333\n",
            "8      2\n",
            "dtype: int64\n"
          ]
        }
      ]
    },
    {
      "cell_type": "code",
      "source": [
        "import pandas as pd\n",
        "values=[\"mohan\",\"murari\",\"dimple\",\"gani\"]\n",
        "data=pd.Series(values)\n",
        "print(data.sort_index())"
      ],
      "metadata": {
        "colab": {
          "base_uri": "https://localhost:8080/"
        },
        "id": "_fjYk_AFIISF",
        "outputId": "5d5cb465-9721-4288-f53b-c5561bb3718e"
      },
      "execution_count": null,
      "outputs": [
        {
          "output_type": "stream",
          "name": "stdout",
          "text": [
            "0     mohan\n",
            "1    murari\n",
            "2    dimple\n",
            "3      gani\n",
            "dtype: object\n"
          ]
        }
      ]
    },
    {
      "cell_type": "code",
      "source": [
        "#UNIQUE\n",
        "import pandas as pd\n",
        "values=[1,2,3,4,5,6,1,2,3]\n",
        "data=pd.Series(values)\n",
        "print(data.unique())\n"
      ],
      "metadata": {
        "colab": {
          "base_uri": "https://localhost:8080/"
        },
        "id": "awYHihWJIigW",
        "outputId": "f574be4e-d1a8-4fce-8507-f58cf55be007"
      },
      "execution_count": null,
      "outputs": [
        {
          "output_type": "stream",
          "name": "stdout",
          "text": [
            "[1 2 3 4 5 6]\n"
          ]
        }
      ]
    },
    {
      "cell_type": "code",
      "source": [
        "import pandas as pd\n",
        "values=[\"mohan\",\"dimple\",\"murari\",\"ganesh\",\"ganesh\"]\n",
        "data=pd.Series(values)\n",
        "print(data.unique())"
      ],
      "metadata": {
        "colab": {
          "base_uri": "https://localhost:8080/"
        },
        "id": "v0aAca_hJBeg",
        "outputId": "04c3c225-a1e9-4555-b6d5-03f417926e33"
      },
      "execution_count": null,
      "outputs": [
        {
          "output_type": "stream",
          "name": "stdout",
          "text": [
            "['mohan' 'dimple' 'murari' 'ganesh']\n"
          ]
        }
      ]
    },
    {
      "cell_type": "code",
      "source": [
        "# N_unique\n",
        "import pandas as pd\n",
        "values=[1,2,3,4,2,3,4,2,3,4,2,3,4,2,3,4,5,6,7,8,9]\n",
        "data=pd.Series(values)\n",
        "print(data.nunique())\n"
      ],
      "metadata": {
        "colab": {
          "base_uri": "https://localhost:8080/"
        },
        "id": "f3Srpao0JJwN",
        "outputId": "d01d25bb-03d3-416e-9bac-1d72bd01f429"
      },
      "execution_count": null,
      "outputs": [
        {
          "output_type": "stream",
          "name": "stdout",
          "text": [
            "9\n"
          ]
        }
      ]
    },
    {
      "cell_type": "code",
      "source": [
        "import pandas as pd\n",
        "values=[\"mohan\",\"dimple\",\"murari\",\"mohan\",\"dimple\",\"murari\"]\n",
        "data=pd.Series(values)\n",
        "print(data.nunique())"
      ],
      "metadata": {
        "colab": {
          "base_uri": "https://localhost:8080/"
        },
        "id": "lCnmT4oLJcDp",
        "outputId": "d198aab7-b482-4dab-b467-b379afdaf3aa"
      },
      "execution_count": null,
      "outputs": [
        {
          "output_type": "stream",
          "name": "stdout",
          "text": [
            "3\n"
          ]
        }
      ]
    },
    {
      "cell_type": "code",
      "source": [
        "# VALUE_COUNT\n",
        "import pandas as pd\n",
        "values=[1,2,3,4,5,6,7]\n",
        "data=pd.Series(values)\n",
        "print(data.value_counts())"
      ],
      "metadata": {
        "colab": {
          "base_uri": "https://localhost:8080/"
        },
        "id": "8RR_lc-uJntE",
        "outputId": "bb3db1a6-45b5-41bd-f8b1-901a18c8759f"
      },
      "execution_count": null,
      "outputs": [
        {
          "output_type": "stream",
          "name": "stdout",
          "text": [
            "1    1\n",
            "2    1\n",
            "3    1\n",
            "4    1\n",
            "5    1\n",
            "6    1\n",
            "7    1\n",
            "Name: count, dtype: int64\n"
          ]
        }
      ]
    },
    {
      "cell_type": "code",
      "source": [
        "import pandas as pd\n",
        "values=[\"mohan\",\"murari\",\"dimple\"]\n",
        "data=pd.Series(values)\n",
        "print(data.value_counts())"
      ],
      "metadata": {
        "colab": {
          "base_uri": "https://localhost:8080/"
        },
        "id": "J8c9y4VxKFvu",
        "outputId": "2a26e2e4-c00f-4285-f90e-1c6d59aeece7"
      },
      "execution_count": null,
      "outputs": [
        {
          "output_type": "stream",
          "name": "stdout",
          "text": [
            "mohan     1\n",
            "murari    1\n",
            "dimple    1\n",
            "Name: count, dtype: int64\n"
          ]
        }
      ]
    },
    {
      "cell_type": "code",
      "source": [
        "from ast import Lambda\n",
        "# APPLY\n",
        "import pandas as pd\n",
        "values=[1,2,3,4,5,6,7,8,9]\n",
        "data=pd.Series(values)\n",
        "print(data.apply(lambda x:x*3))\n"
      ],
      "metadata": {
        "colab": {
          "base_uri": "https://localhost:8080/"
        },
        "id": "GdT-ROo3KKpK",
        "outputId": "aa8802b8-0a50-44e0-87eb-cc6978c52318"
      },
      "execution_count": null,
      "outputs": [
        {
          "output_type": "stream",
          "name": "stdout",
          "text": [
            "0     3\n",
            "1     6\n",
            "2     9\n",
            "3    12\n",
            "4    15\n",
            "5    18\n",
            "6    21\n",
            "7    24\n",
            "8    27\n",
            "dtype: int64\n"
          ]
        }
      ]
    },
    {
      "cell_type": "code",
      "source": [
        "\n",
        "import pandas as pd\n",
        "values=[\"mohan\",\"murari\",\"dimple\",\"loki\"]\n",
        "data=pd.Series(values)\n",
        "print(data.apply(lambda x:x*3))"
      ],
      "metadata": {
        "colab": {
          "base_uri": "https://localhost:8080/"
        },
        "id": "9TLTQrQ4LUqn",
        "outputId": "ca343594-7183-40d1-e1aa-09736c620a62"
      },
      "execution_count": null,
      "outputs": [
        {
          "output_type": "stream",
          "name": "stdout",
          "text": [
            "0       mohanmohanmohan\n",
            "1    murarimurarimurari\n",
            "2    dimpledimpledimple\n",
            "3          lokilokiloki\n",
            "dtype: object\n"
          ]
        }
      ]
    }
  ]
}