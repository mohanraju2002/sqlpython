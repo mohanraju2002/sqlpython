{
  "nbformat": 4,
  "nbformat_minor": 0,
  "metadata": {
    "colab": {
      "provenance": [],
      "authorship_tag": "ABX9TyNHAimNzsCJkETbGGUr4ef7",
      "include_colab_link": true
    },
    "kernelspec": {
      "name": "python3",
      "display_name": "Python 3"
    },
    "language_info": {
      "name": "python"
    }
  },
  "cells": [
    {
      "cell_type": "markdown",
      "metadata": {
        "id": "view-in-github",
        "colab_type": "text"
      },
      "source": [
        "<a href=\"https://colab.research.google.com/github/mohanraju2002/sqlpython-pandas/blob/master/DATA_FRAMES.ipynb\" target=\"_parent\"><img src=\"https://colab.research.google.com/assets/colab-badge.svg\" alt=\"Open In Colab\"/></a>"
      ]
    },
    {
      "cell_type": "code",
      "execution_count": 3,
      "metadata": {
        "id": "iY8f3CYTkdZU"
      },
      "outputs": [],
      "source": [
        "#DATA_FRAMES\n",
        "\n",
        "#   Dataframeisapredefined class in pandas\n",
        "#   WecancreateDataFramein different ways like below,\n",
        "#  * Empty DataFrame\n",
        "#  * Byusing single list\n",
        "#  * Byusing nested list\n",
        "#  * Byusing dictionary"
      ]
    },
    {
      "cell_type": "code",
      "source": [
        "# Empty DataFrame\n",
        "\n",
        "import pandas as pd\n",
        "df=pd.DataFrame()\n",
        "print(df)\n"
      ],
      "metadata": {
        "colab": {
          "base_uri": "https://localhost:8080/"
        },
        "id": "VytyCwTkkzsR",
        "outputId": "be747f3e-7cdb-4ba2-a970-8a645fe9e672"
      },
      "execution_count": 8,
      "outputs": [
        {
          "output_type": "stream",
          "name": "stdout",
          "text": [
            "Empty DataFrame\n",
            "Columns: []\n",
            "Index: []\n"
          ]
        }
      ]
    },
    {
      "cell_type": "code",
      "source": [
        "# Byusing single list\n",
        "\n",
        "import pandas as pd\n",
        "marks=[100,200,300,400]\n",
        "df=pd.DataFrame(marks)\n",
        "print(df)\n",
        "\n"
      ],
      "metadata": {
        "colab": {
          "base_uri": "https://localhost:8080/"
        },
        "id": "cqhQSjSVlhKz",
        "outputId": "299e8a50-701e-47f9-b326-70c47db17e49"
      },
      "execution_count": 7,
      "outputs": [
        {
          "output_type": "stream",
          "name": "stdout",
          "text": [
            "     0\n",
            "0  100\n",
            "1  200\n",
            "2  300\n",
            "3  400\n"
          ]
        }
      ]
    },
    {
      "cell_type": "code",
      "source": [
        "import pandas as pd\n",
        "marks=[\"mohan\",\"murari\",\"ganesh\",\"dimple\"]\n",
        "df=pd.DataFrame(marks)\n",
        "print(df)\n"
      ],
      "metadata": {
        "colab": {
          "base_uri": "https://localhost:8080/"
        },
        "id": "NrUTE6gVmW3q",
        "outputId": "43c9364a-c5bc-4b78-c814-c45bbcfd61b9"
      },
      "execution_count": 9,
      "outputs": [
        {
          "output_type": "stream",
          "name": "stdout",
          "text": [
            "        0\n",
            "0   mohan\n",
            "1  murari\n",
            "2  ganesh\n",
            "3  dimple\n"
          ]
        }
      ]
    },
    {
      "cell_type": "code",
      "source": [
        "import pandas as pd\n",
        "marks=[\"mohan\",\"murari\",\"ganesh\",\"dimple\",2,3,4,5,6]\n",
        "df=pd.DataFrame(marks)\n",
        "print(df)"
      ],
      "metadata": {
        "colab": {
          "base_uri": "https://localhost:8080/"
        },
        "id": "GTjsYRadnaXC",
        "outputId": "1fbcdf78-365d-44e6-c43c-9eb357dbbb39"
      },
      "execution_count": 10,
      "outputs": [
        {
          "output_type": "stream",
          "name": "stdout",
          "text": [
            "        0\n",
            "0   mohan\n",
            "1  murari\n",
            "2  ganesh\n",
            "3  dimple\n",
            "4       2\n",
            "5       3\n",
            "6       4\n",
            "7       5\n",
            "8       6\n"
          ]
        }
      ]
    },
    {
      "cell_type": "markdown",
      "source": [],
      "metadata": {
        "id": "NAq8_aQjnn_X"
      }
    },
    {
      "cell_type": "code",
      "source": [
        "#Byusing nested list\n",
        "import pandas as pd\n",
        "data=[\n",
        "    [100,\"mohan\",\"1000000\",\"TCS\"],\n",
        "    [200,\"murari\",\"100000\",\"SBI\"],\n",
        "    [300,\"dimple\",\"100000\",\"WIPRO\"]\n",
        "]\n",
        "df=pd.DataFrame(data,columns=[\"ID\",\"EMPLOYE\",\"SALARY\",\"COMPANY\"])\n",
        "print(df)"
      ],
      "metadata": {
        "colab": {
          "base_uri": "https://localhost:8080/"
        },
        "id": "gAm3GK09njwl",
        "outputId": "a6c45ee4-d235-43f5-970c-8b3e4c708470"
      },
      "execution_count": 12,
      "outputs": [
        {
          "output_type": "stream",
          "name": "stdout",
          "text": [
            "    ID EMPLOYE   SALARY COMPANY\n",
            "0  100   mohan  1000000     TCS\n",
            "1  200  murari   100000     SBI\n",
            "2  300  dimple   100000   WIPRO\n"
          ]
        }
      ]
    },
    {
      "cell_type": "code",
      "source": [
        "import pandas as pd\n",
        "column=(\"NAME\",\"ID\",\"SALARY\")\n",
        "data=[\n",
        "    [\"mohan\",\"murari\",\"dimple\"],\n",
        "    [100,200,300],\n",
        "    [20000000,120000,140000]\n",
        "]\n",
        "df=pd.DataFrame(data,index=column)\n",
        "print(df)"
      ],
      "metadata": {
        "colab": {
          "base_uri": "https://localhost:8080/"
        },
        "id": "bwsM1TxhocQR",
        "outputId": "ddcbf2d1-69b5-4202-ba8e-bb1776c74521"
      },
      "execution_count": 16,
      "outputs": [
        {
          "output_type": "stream",
          "name": "stdout",
          "text": [
            "               0       1       2\n",
            "NAME       mohan  murari  dimple\n",
            "ID           100     200     300\n",
            "SALARY  20000000  120000  140000\n"
          ]
        }
      ]
    },
    {
      "cell_type": "code",
      "source": [
        "# Byusing dictionary\n",
        "import pandas as pd\n",
        "data={ \"names\":[\"mohan\",\"murari\",\"ganesh\",\"dimple\"],\"ID\":[1,2,3,4]}\n",
        "df=pd.DataFrame(data)\n",
        "print(df)\n"
      ],
      "metadata": {
        "colab": {
          "base_uri": "https://localhost:8080/"
        },
        "id": "Val-j4hRpbV6",
        "outputId": "a3b992cd-5305-439f-d58a-7352678de348"
      },
      "execution_count": 17,
      "outputs": [
        {
          "output_type": "stream",
          "name": "stdout",
          "text": [
            "    names  ID\n",
            "0   mohan   1\n",
            "1  murari   2\n",
            "2  ganesh   3\n",
            "3  dimple   4\n"
          ]
        }
      ]
    },
    {
      "cell_type": "code",
      "source": [
        "import pandas as pd\n",
        "data={\n",
        "    \"movie\":[\"kgf\",\"salara\",\"hello\",\"bahubali\",\"og\"],\n",
        "    \"hero\":[\"yash\",\"prabash\",\"akhil\",\"prabash\",\"pk\"],\n",
        "    \"boxoffice\":[\"BB\",\"HIT\",\"SUPER\",\"BB\",\"PEAKS\"]\n",
        "}\n",
        "df=pd.DataFrame(data)\n",
        "print(df)"
      ],
      "metadata": {
        "colab": {
          "base_uri": "https://localhost:8080/"
        },
        "id": "Ebw1TzGBsWJc",
        "outputId": "e4ac9236-54b1-4ce3-f8bc-c137f006a5c8"
      },
      "execution_count": 19,
      "outputs": [
        {
          "output_type": "stream",
          "name": "stdout",
          "text": [
            "      movie     hero boxoffice\n",
            "0       kgf     yash        BB\n",
            "1    salara  prabash       HIT\n",
            "2     hello    akhil     SUPER\n",
            "3  bahubali  prabash        BB\n",
            "4        og       pk     PEAKS\n"
          ]
        }
      ]
    },
    {
      "cell_type": "code",
      "source": [
        "import pandas as pd\n",
        "i=[2016,2024,2021,2015,2025]\n",
        "data={\n",
        "    \"movie\":[\"kgf\",\"salara\",\"hello\",\"bahubali\",\"og\"],\n",
        "    \"hero\":[\"yash\",\"prabash\",\"akhil\",\"prabash\",\"pk\"],\n",
        "    \"boxoffice\":[\"BB\",\"HIT\",\"SUPER\",\"BB\",\"PEAKS\"]\n",
        "}\n",
        "df=pd.DataFrame(data,index=i)\n",
        "print(df)"
      ],
      "metadata": {
        "colab": {
          "base_uri": "https://localhost:8080/"
        },
        "id": "amUS06J7tTFK",
        "outputId": "0daa69af-8b6d-4058-dcd0-cc98ae17adc4"
      },
      "execution_count": 20,
      "outputs": [
        {
          "output_type": "stream",
          "name": "stdout",
          "text": [
            "         movie     hero boxoffice\n",
            "2016       kgf     yash        BB\n",
            "2024    salara  prabash       HIT\n",
            "2021     hello    akhil     SUPER\n",
            "2015  bahubali  prabash        BB\n",
            "2025        og       pk     PEAKS\n"
          ]
        }
      ]
    }
  ]
}