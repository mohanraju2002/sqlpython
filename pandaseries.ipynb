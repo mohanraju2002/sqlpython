{
  "nbformat": 4,
  "nbformat_minor": 0,
  "metadata": {
    "colab": {
      "provenance": [],
      "authorship_tag": "ABX9TyME2spFgJ0t5ygMBPdVqhRD",
      "include_colab_link": true
    },
    "kernelspec": {
      "name": "python3",
      "display_name": "Python 3"
    },
    "language_info": {
      "name": "python"
    }
  },
  "cells": [
    {
      "cell_type": "markdown",
      "metadata": {
        "id": "view-in-github",
        "colab_type": "text"
      },
      "source": [
        "<a href=\"https://colab.research.google.com/github/mohanraju2002/sqlpython-pandas/blob/master/pandaseries.ipynb\" target=\"_parent\"><img src=\"https://colab.research.google.com/assets/colab-badge.svg\" alt=\"Open In Colab\"/></a>"
      ]
    },
    {
      "cell_type": "code",
      "execution_count": null,
      "metadata": {
        "id": "yGOMGpmoIBx7"
      },
      "outputs": [],
      "source": [
        "#-----------PANDAS – SERIES\n",
        "#-> Creating Series\n",
        "#We can create Series  In different ways,\n",
        "# Empty series\n",
        "# By using List\n",
        "# By using an array"
      ]
    },
    {
      "cell_type": "code",
      "source": [
        "#----------  CREATE EMPTY SERIES\n",
        "import pandas as pd\n",
        "a=pd.Series()\n",
        "print(a)\n",
        "print(type(a))\n"
      ],
      "metadata": {
        "colab": {
          "base_uri": "https://localhost:8080/"
        },
        "id": "fI3CUfGYJa31",
        "outputId": "da940929-2a14-4f40-c3b8-33b6fa8880cc"
      },
      "execution_count": null,
      "outputs": [
        {
          "output_type": "stream",
          "name": "stdout",
          "text": [
            "Series([], dtype: object)\n",
            "<class 'pandas.core.series.Series'>\n"
          ]
        }
      ]
    },
    {
      "cell_type": "code",
      "source": [
        "# Creating Series by using list\n",
        "import pandas as pd\n",
        "a=[2,3,4,5,6,7]\n",
        "b=pd.Series(a)\n",
        "print(b)"
      ],
      "metadata": {
        "colab": {
          "base_uri": "https://localhost:8080/"
        },
        "id": "NpGiVSP1KaNX",
        "outputId": "1ef7889e-5fc5-4905-d5f4-69fc5a52a0e7"
      },
      "execution_count": null,
      "outputs": [
        {
          "output_type": "stream",
          "name": "stdout",
          "text": [
            "0    2\n",
            "1    3\n",
            "2    4\n",
            "3    5\n",
            "4    6\n",
            "5    7\n",
            "dtype: int64\n"
          ]
        }
      ]
    },
    {
      "cell_type": "code",
      "source": [
        "# creating Series object using list, assigning a name\n",
        "a=[1,2,3,4,5,6]\n",
        "b=pd.Series(a,name=\"data\")\n",
        "print(b)"
      ],
      "metadata": {
        "colab": {
          "base_uri": "https://localhost:8080/"
        },
        "id": "0DZPSddmKZ08",
        "outputId": "845bbad9-9e03-41db-efc7-236599e2b905"
      },
      "execution_count": null,
      "outputs": [
        {
          "output_type": "stream",
          "name": "stdout",
          "text": [
            "0    1\n",
            "1    2\n",
            "2    3\n",
            "3    4\n",
            "4    5\n",
            "5    6\n",
            "Name: data, dtype: int64\n"
          ]
        }
      ]
    },
    {
      "cell_type": "code",
      "source": [
        "# creating Series object using list, assigning a name\n",
        "import pandas as pd\n",
        "a=[\"mohan\",\"murari\",\"dimple\",\"loki\"]\n",
        "b=pd.Series(a,name=\"friends\")\n",
        "print(b)"
      ],
      "metadata": {
        "colab": {
          "base_uri": "https://localhost:8080/"
        },
        "id": "bQEPbXJNLDxb",
        "outputId": "1ef55c0b-efc1-4ec1-f0ea-9b0595b114f4"
      },
      "execution_count": null,
      "outputs": [
        {
          "output_type": "stream",
          "name": "stdout",
          "text": [
            "0     mohan\n",
            "1    murari\n",
            "2    dimple\n",
            "3      loki\n",
            "Name: friends, dtype: object\n"
          ]
        }
      ]
    },
    {
      "cell_type": "code",
      "source": [
        "# creating Series object by using range and list.\n",
        "import pandas as pd\n",
        "ran=range(100)\n",
        "lis=list(ran)\n",
        "s = pd.Series(lis)\n",
        "print(s)\n"
      ],
      "metadata": {
        "id": "U7pvAUeLLoQm",
        "colab": {
          "base_uri": "https://localhost:8080/"
        },
        "outputId": "84a82d4e-032f-48a2-f85a-20c32da56f2a"
      },
      "execution_count": null,
      "outputs": [
        {
          "output_type": "stream",
          "name": "stdout",
          "text": [
            "0      0\n",
            "1      1\n",
            "2      2\n",
            "3      3\n",
            "4      4\n",
            "      ..\n",
            "95    95\n",
            "96    96\n",
            "97    97\n",
            "98    98\n",
            "99    99\n",
            "Length: 100, dtype: int64\n"
          ]
        }
      ]
    },
    {
      "cell_type": "code",
      "source": [
        "#  Create a Series from array\n",
        "import pandas as pd\n",
        "import numpy as np\n",
        "values=[1,2,3,4,5]\n",
        "data=np.array(values)\n",
        "print(data)\n",
        "print(type(data))\n"
      ],
      "metadata": {
        "colab": {
          "base_uri": "https://localhost:8080/"
        },
        "id": "3MThctgfO-JV",
        "outputId": "c12e6091-295a-47e9-b3a0-7aa73b93a571"
      },
      "execution_count": null,
      "outputs": [
        {
          "output_type": "stream",
          "name": "stdout",
          "text": [
            "[1 2 3 4 5]\n",
            "<class 'numpy.ndarray'>\n"
          ]
        }
      ]
    },
    {
      "cell_type": "code",
      "source": [
        "# creating ndarray and passing argument to the Series\n",
        "import pandas as pd\n",
        "import numpy as np\n",
        "values=[1,2,3,4,5]\n",
        "data=np.array(values)\n",
        "s=pd.Series(data)\n",
        "print(s)\n"
      ],
      "metadata": {
        "colab": {
          "base_uri": "https://localhost:8080/"
        },
        "id": "FoW-b_tbPb8O",
        "outputId": "41d66201-fa39-44d6-dfd0-09b2075a6410"
      },
      "execution_count": null,
      "outputs": [
        {
          "output_type": "stream",
          "name": "stdout",
          "text": [
            "0    1\n",
            "1    2\n",
            "2    3\n",
            "3    4\n",
            "4    5\n",
            "dtype: int64\n"
          ]
        }
      ]
    },
    {
      "cell_type": "code",
      "source": [
        "# Creating Series using ndarray\n",
        "import pandas as pd\n",
        "import numpy as np\n",
        "\n",
        "values=[1,2,3,4,5]\n",
        "data=np.array(values)\n",
        "\n",
        "s=pd.Series(data)\n",
        "print(data)\n",
        "print(s)\n",
        "\n"
      ],
      "metadata": {
        "colab": {
          "base_uri": "https://localhost:8080/"
        },
        "id": "vjcenHPCmIIR",
        "outputId": "bca9c1d5-9ccc-44b7-e795-fd55696cc73c"
      },
      "execution_count": null,
      "outputs": [
        {
          "output_type": "stream",
          "name": "stdout",
          "text": [
            "[1 2 3 4 5]\n",
            "0    1\n",
            "1    2\n",
            "2    3\n",
            "3    4\n",
            "4    5\n",
            "dtype: int64\n"
          ]
        }
      ]
    },
    {
      "cell_type": "code",
      "source": [
        "# Creating Series using ndarray  in strings\n",
        "import pandas as pd\n",
        "import numpy as np\n",
        "\n",
        "values=[\"mohan\",\"murari\",\"ganesh\",\"dimple\"]\n",
        "data=np.array(values)\n",
        "\n",
        "s=pd.Series(data)\n",
        "print(data)\n",
        "print(s)"
      ],
      "metadata": {
        "colab": {
          "base_uri": "https://localhost:8080/"
        },
        "id": "WW_NWJuFnFPt",
        "outputId": "4ae7810a-4627-4e62-a35a-71da99999ba5"
      },
      "execution_count": null,
      "outputs": [
        {
          "output_type": "stream",
          "name": "stdout",
          "text": [
            "['mohan' 'murari' 'ganesh' 'dimple']\n",
            "0     mohan\n",
            "1    murari\n",
            "2    ganesh\n",
            "3    dimple\n",
            "dtype: object\n"
          ]
        }
      ]
    },
    {
      "cell_type": "code",
      "source": [
        "#Creating Series\n",
        "import pandas as pd\n",
        "value=[1,2,3,4,5]\n",
        "data=pd.Series(values)\n",
        "print(data)"
      ],
      "metadata": {
        "colab": {
          "base_uri": "https://localhost:8080/"
        },
        "id": "IAKzdS6-sYFC",
        "outputId": "99e91549-9a66-410d-f1e9-86bfe7c7babe"
      },
      "execution_count": null,
      "outputs": [
        {
          "output_type": "stream",
          "name": "stdout",
          "text": [
            "0     mohan\n",
            "1    murari\n",
            "2    ganesh\n",
            "3    dimple\n",
            "dtype: object\n"
          ]
        }
      ]
    },
    {
      "cell_type": "code",
      "source": [
        "#Creating Series object and giving name\n",
        "import pandas as pd\n",
        "values=[1,2,3,4,5,6]\n",
        "data=pd.Series(values,name=\"numbers\")\n",
        "print(data)"
      ],
      "metadata": {
        "colab": {
          "base_uri": "https://localhost:8080/"
        },
        "id": "LlpPcwa8s5yn",
        "outputId": "b96aad24-3098-4295-dd83-7326a98d9db2"
      },
      "execution_count": null,
      "outputs": [
        {
          "output_type": "stream",
          "name": "stdout",
          "text": [
            "0    1\n",
            "1    2\n",
            "2    3\n",
            "3    4\n",
            "4    5\n",
            "5    6\n",
            "Name: numbers, dtype: int64\n"
          ]
        }
      ]
    },
    {
      "cell_type": "code",
      "source": [
        "#Creating Series object and giving name and index\n",
        "\n",
        "import pandas as pd\n",
        "values=[1,2,3,4,5,6]\n",
        "i=[100,200,300,400,500,600]\n",
        "data=pd.Series(values,name=\"numbers\",index=i)\n",
        "print(data)\n",
        "\n"
      ],
      "metadata": {
        "colab": {
          "base_uri": "https://localhost:8080/"
        },
        "id": "kY9Q1SUGtUmg",
        "outputId": "f3230d40-98c3-4f4e-94e7-87beb5d21f74"
      },
      "execution_count": null,
      "outputs": [
        {
          "output_type": "stream",
          "name": "stdout",
          "text": [
            "100    1\n",
            "200    2\n",
            "300    3\n",
            "400    4\n",
            "500    5\n",
            "600    6\n",
            "Name: numbers, dtype: int64\n"
          ]
        }
      ]
    },
    {
      "cell_type": "code",
      "source": [
        "#Creating Series object and giving name and index\n",
        "\n",
        "import pandas as pd\n",
        "price=[30000,40000,50000,35000,45000]\n",
        "i=[\"appo\",\"redmi\",\"realme\",\"vivo\",\"moto\"]\n",
        "\n",
        "data=pd.Series(price,index=i,name='mobile data')\n",
        "print(data)\n",
        "\n"
      ],
      "metadata": {
        "colab": {
          "base_uri": "https://localhost:8080/"
        },
        "id": "nobKI7HRtrSE",
        "outputId": "859af01b-11f9-4eb4-8eb3-86f16cd07577"
      },
      "execution_count": null,
      "outputs": [
        {
          "output_type": "stream",
          "name": "stdout",
          "text": [
            "appo      30000\n",
            "redmi     40000\n",
            "realme    50000\n",
            "vivo      35000\n",
            "moto      45000\n",
            "Name: mobile data, dtype: int64\n"
          ]
        }
      ]
    },
    {
      "cell_type": "code",
      "source": [
        "#Creating Series object and giving name and index position\n",
        "\n",
        "import pandas as pd\n",
        "price=[30000,40000,50000,35000,45000]\n",
        "i=[\"appo\",\"redmi\",\"realme\",\"vivo\",\"moto\"]\n",
        "\n",
        "data=pd.Series(price,index=i,name='mobile data')\n",
        "print(data['redmi'])\n",
        "\n",
        "\n",
        "\n"
      ],
      "metadata": {
        "colab": {
          "base_uri": "https://localhost:8080/"
        },
        "id": "4jvcXCs8uKlH",
        "outputId": "afa6e0ca-e776-4c94-c23e-f64bf38c2645"
      },
      "execution_count": null,
      "outputs": [
        {
          "output_type": "stream",
          "name": "stdout",
          "text": [
            "40000\n"
          ]
        }
      ]
    }
  ]
}