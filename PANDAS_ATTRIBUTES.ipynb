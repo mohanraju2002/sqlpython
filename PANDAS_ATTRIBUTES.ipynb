{
  "nbformat": 4,
  "nbformat_minor": 0,
  "metadata": {
    "colab": {
      "provenance": [],
      "authorship_tag": "ABX9TyPXKOJLTRIrx58Z0b1FQkAu",
      "include_colab_link": true
    },
    "kernelspec": {
      "name": "python3",
      "display_name": "Python 3"
    },
    "language_info": {
      "name": "python"
    }
  },
  "cells": [
    {
      "cell_type": "markdown",
      "metadata": {
        "id": "view-in-github",
        "colab_type": "text"
      },
      "source": [
        "<a href=\"https://colab.research.google.com/github/mohanraju2002/sqlpython-pandas/blob/master/PANDAS_ATTRIBUTES.ipynb\" target=\"_parent\"><img src=\"https://colab.research.google.com/assets/colab-badge.svg\" alt=\"Open In Colab\"/></a>"
      ]
    },
    {
      "cell_type": "code",
      "execution_count": null,
      "metadata": {
        "id": "72kcDfJbmGsp"
      },
      "outputs": [],
      "source": [
        "# PANDAS SERIES-ATTRIBUTE"
      ]
    },
    {
      "cell_type": "code",
      "source": [
        "# INDEX\n",
        "import pandas as pd\n",
        "values=[2,3,4,6,7,8,9]\n",
        "data=pd.Series(values)\n",
        "print(data.index)"
      ],
      "metadata": {
        "colab": {
          "base_uri": "https://localhost:8080/"
        },
        "id": "7zSDoVfonY6f",
        "outputId": "cb9a07bf-35e3-4924-8a4e-ebac88dcc852"
      },
      "execution_count": 1,
      "outputs": [
        {
          "output_type": "stream",
          "name": "stdout",
          "text": [
            "RangeIndex(start=0, stop=7, step=1)\n"
          ]
        }
      ]
    },
    {
      "cell_type": "code",
      "source": [
        "#D-TYPE\n",
        "import pandas as pd\n",
        "value=[3,4,5,6,7,8]\n",
        "data=pd.Series(values)\n",
        "print(data.dtype)"
      ],
      "metadata": {
        "colab": {
          "base_uri": "https://localhost:8080/"
        },
        "id": "7eLwiNOpsS8Y",
        "outputId": "d3f349b2-87ef-4af4-9ee5-d373099a19d9"
      },
      "execution_count": 23,
      "outputs": [
        {
          "output_type": "stream",
          "name": "stdout",
          "text": [
            "int64\n"
          ]
        }
      ]
    },
    {
      "cell_type": "code",
      "source": [
        "import pandas as pd\n",
        "value=[3.4,4.5,5.6,5.9]\n",
        "data=pd.Series(value)\n",
        "print(data.dtype)\n"
      ],
      "metadata": {
        "colab": {
          "base_uri": "https://localhost:8080/"
        },
        "id": "-AvOjFCetcO0",
        "outputId": "c62c2be9-aebb-4af2-848b-f2e85324078b"
      },
      "execution_count": 25,
      "outputs": [
        {
          "output_type": "stream",
          "name": "stdout",
          "text": [
            "float64\n"
          ]
        }
      ]
    },
    {
      "cell_type": "code",
      "source": [
        "import pandas as pd\n",
        "value=[\"mohan\",\"ganesh\",\"murari\",\"dimple\"]\n",
        "data=pd.Series(value)\n",
        "print(data.dtype)\n"
      ],
      "metadata": {
        "colab": {
          "base_uri": "https://localhost:8080/"
        },
        "id": "rG-rEjdouLER",
        "outputId": "e87bf18f-c79c-40fc-ae14-e6040c8e674b"
      },
      "execution_count": 26,
      "outputs": [
        {
          "output_type": "stream",
          "name": "stdout",
          "text": [
            "object\n"
          ]
        }
      ]
    },
    {
      "cell_type": "code",
      "source": [
        "# NAME\n",
        "import pandas as pd\n",
        "values=[1,2,3,4,5]\n",
        "data=pd.Series(values,name=\"values\")\n",
        "print(data)\n"
      ],
      "metadata": {
        "colab": {
          "base_uri": "https://localhost:8080/"
        },
        "id": "GoSTJmaDuT48",
        "outputId": "fbe37ee8-bad2-4b02-d7e8-375a7adeab92"
      },
      "execution_count": 28,
      "outputs": [
        {
          "output_type": "stream",
          "name": "stdout",
          "text": [
            "0    1\n",
            "1    2\n",
            "2    3\n",
            "3    4\n",
            "4    5\n",
            "Name: values, dtype: int64\n"
          ]
        }
      ]
    },
    {
      "cell_type": "code",
      "source": [
        "\n",
        "import pandas as pd\n",
        "values=[\"mohan\",\"murari\",\"ganesh\",\"dimple\"]\n",
        "data=pd.Series(values,name=\"friends\")\n",
        "print(data)"
      ],
      "metadata": {
        "colab": {
          "base_uri": "https://localhost:8080/"
        },
        "id": "psjz3Kvdu07U",
        "outputId": "021a54b5-8b4e-4a48-c7cc-d40aa6a60afb"
      },
      "execution_count": 29,
      "outputs": [
        {
          "output_type": "stream",
          "name": "stdout",
          "text": [
            "0     mohan\n",
            "1    murari\n",
            "2    ganesh\n",
            "3    dimple\n",
            "Name: friends, dtype: object\n"
          ]
        }
      ]
    },
    {
      "cell_type": "code",
      "source": [
        "# N-DIM\n",
        "import pandas as pd\n",
        "values=[1,2,3,4,5,6]\n",
        "data=pd.Series(values)\n",
        "print(data.ndim)"
      ],
      "metadata": {
        "colab": {
          "base_uri": "https://localhost:8080/"
        },
        "id": "n8pLuydgvGDj",
        "outputId": "5ce249fb-a942-469f-e721-378c6afb7eef"
      },
      "execution_count": 30,
      "outputs": [
        {
          "output_type": "stream",
          "name": "stdout",
          "text": [
            "1\n"
          ]
        }
      ]
    },
    {
      "cell_type": "code",
      "source": [
        "import pandas as pd\n",
        "values=[\"mohan\",\"gani\",\"murari\",\"dimple\"]\n",
        "data=pd.Series(values)\n",
        "print(data.ndim)"
      ],
      "metadata": {
        "colab": {
          "base_uri": "https://localhost:8080/"
        },
        "id": "tOFg9aKnyLnM",
        "outputId": "561f8d65-db21-4dba-9a97-90f463a5d8ba"
      },
      "execution_count": 31,
      "outputs": [
        {
          "output_type": "stream",
          "name": "stdout",
          "text": [
            "1\n"
          ]
        }
      ]
    },
    {
      "cell_type": "code",
      "source": [
        "#SIZE\n",
        "import pandas as pd\n",
        "values=[1,2,3,4,5,6,7,8,99]\n",
        "data=pd.Series(values)\n",
        "print(data.size)"
      ],
      "metadata": {
        "colab": {
          "base_uri": "https://localhost:8080/"
        },
        "id": "DLGcX5UlyZyR",
        "outputId": "c317420a-7114-4f0c-a2ee-a10c62992628"
      },
      "execution_count": 34,
      "outputs": [
        {
          "output_type": "stream",
          "name": "stdout",
          "text": [
            "9\n"
          ]
        }
      ]
    },
    {
      "cell_type": "code",
      "source": [
        "import pandas as pd\n",
        "values=[\"mohan\",\"dimple\",\"murari\",\"dimple\"]\n",
        "data=pd.Series(values)\n",
        "print(data.size)"
      ],
      "metadata": {
        "colab": {
          "base_uri": "https://localhost:8080/"
        },
        "id": "ipUZh_8zy6BJ",
        "outputId": "22b10aea-5640-44ab-8e4e-8dd637c8636a"
      },
      "execution_count": 35,
      "outputs": [
        {
          "output_type": "stream",
          "name": "stdout",
          "text": [
            "4\n"
          ]
        }
      ]
    },
    {
      "cell_type": "code",
      "source": [
        "#SHAPE\n",
        "import pandas as pd\n",
        "values=[1,2,3,4,5,6,7,8,9]\n",
        "data=pd.Series(values)\n",
        "print(data.shape)\n"
      ],
      "metadata": {
        "colab": {
          "base_uri": "https://localhost:8080/"
        },
        "id": "WgDdSCb2zMB7",
        "outputId": "53c15609-13ed-4603-ab43-fe1ebf2c804a"
      },
      "execution_count": 36,
      "outputs": [
        {
          "output_type": "stream",
          "name": "stdout",
          "text": [
            "(9,)\n"
          ]
        }
      ]
    },
    {
      "cell_type": "code",
      "source": [
        "import pandas as pd\n",
        "values=[\"mohan\",\"ganesh\",\"murari\",\"dimple\"]\n",
        "data=pd.Series(values)\n",
        "print(data.shape)"
      ],
      "metadata": {
        "colab": {
          "base_uri": "https://localhost:8080/"
        },
        "id": "i3B7WLFWzmhh",
        "outputId": "28c521b7-f82f-411b-bf14-52f524d125c4"
      },
      "execution_count": 37,
      "outputs": [
        {
          "output_type": "stream",
          "name": "stdout",
          "text": [
            "(4,)\n"
          ]
        }
      ]
    },
    {
      "cell_type": "code",
      "source": [
        "#UNIQUE\n",
        "import pandas as pd\n",
        "values=[1,2,3,4,5,6]\n",
        "data=pd.Series(values)\n",
        "print(data.is_unique)"
      ],
      "metadata": {
        "colab": {
          "base_uri": "https://localhost:8080/"
        },
        "id": "KDFj8H6Ozzc4",
        "outputId": "8e522ad6-a9aa-44a6-cf26-290291e98fc9"
      },
      "execution_count": 38,
      "outputs": [
        {
          "output_type": "stream",
          "name": "stdout",
          "text": [
            "True\n"
          ]
        }
      ]
    },
    {
      "cell_type": "code",
      "source": [
        "import pandas as pd\n",
        "values=[1,2,3,4,5,6,1,2,3]\n",
        "data=pd.Series(values)\n",
        "print(data.is_unique)"
      ],
      "metadata": {
        "colab": {
          "base_uri": "https://localhost:8080/"
        },
        "id": "viN6Ns_M1-nu",
        "outputId": "d623f500-3507-460b-8979-5fefad58f10c"
      },
      "execution_count": 39,
      "outputs": [
        {
          "output_type": "stream",
          "name": "stdout",
          "text": [
            "False\n"
          ]
        }
      ]
    },
    {
      "cell_type": "code",
      "source": [
        "# HASNANS\n",
        "import numpy as np\n",
        "import pandas as pd\n",
        "values=[1,2,np.nan,4,5,6,np.nan,2,3]\n",
        "data=pd.Series(values)\n",
        "print(data.hasnans)\n",
        "\n"
      ],
      "metadata": {
        "colab": {
          "base_uri": "https://localhost:8080/"
        },
        "id": "8sp1KqN72Bxc",
        "outputId": "34230db8-8bb1-46c3-8e1f-86e9d0143b68"
      },
      "execution_count": 42,
      "outputs": [
        {
          "output_type": "stream",
          "name": "stdout",
          "text": [
            "True\n"
          ]
        }
      ]
    },
    {
      "cell_type": "code",
      "source": [
        "import numpy as np\n",
        "import pandas as pd\n",
        "values=[1,2,4,5,6,2,3]\n",
        "data=pd.Series(values)\n",
        "print(data.hasnans)"
      ],
      "metadata": {
        "colab": {
          "base_uri": "https://localhost:8080/"
        },
        "id": "ssTowMCM3FEf",
        "outputId": "3d057fbc-7095-4f8c-bd06-f1f31d7086b3"
      },
      "execution_count": 43,
      "outputs": [
        {
          "output_type": "stream",
          "name": "stdout",
          "text": [
            "False\n"
          ]
        }
      ]
    },
    {
      "cell_type": "code",
      "source": [
        "# EMPTY\n",
        "import pandas as pd\n",
        "values=()\n",
        "data=pd.Series(values)\n",
        "print(data.empty)"
      ],
      "metadata": {
        "colab": {
          "base_uri": "https://localhost:8080/"
        },
        "id": "quSQrGcI3LK8",
        "outputId": "71567800-4844-4cbb-d26b-de0496449901"
      },
      "execution_count": 44,
      "outputs": [
        {
          "output_type": "stream",
          "name": "stdout",
          "text": [
            "True\n"
          ]
        }
      ]
    },
    {
      "cell_type": "code",
      "source": [
        "import pandas as pd\n",
        "values=[1,2,3,4,5]\n",
        "data=pd.Series(values)\n",
        "print(data.empty)"
      ],
      "metadata": {
        "colab": {
          "base_uri": "https://localhost:8080/"
        },
        "id": "WmI53pXE3X5Z",
        "outputId": "a5e9a38e-e6aa-4521-d7b5-e7029b22b3c1"
      },
      "execution_count": 45,
      "outputs": [
        {
          "output_type": "stream",
          "name": "stdout",
          "text": [
            "False\n"
          ]
        }
      ]
    }
  ]
}